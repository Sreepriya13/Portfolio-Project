{
 "cells": [
  {
   "cell_type": "code",
   "execution_count": null,
   "id": "2f0bf147-5164-4545-9ae8-3ed25e513a5f",
   "metadata": {},
   "outputs": [],
   "source": [
    "# https://mercer-health.com/services/weight-management-center/bmi-calculator#:~:text=Body%20Mass%20Index%2C%20or%20BMI,inches%20x%20height%20in%20inches"
   ]
  },
  {
   "cell_type": "code",
   "execution_count": 22,
   "id": "e35b1f70-f2a8-4134-ad4f-7edfdc345404",
   "metadata": {},
   "outputs": [
    {
     "name": "stdin",
     "output_type": "stream",
     "text": [
      "Enter your name:  Sreepriya\n",
      "Enter your weight in pounds:  183\n",
      "Enter in height in inches:  63\n"
     ]
    },
    {
     "name": "stdout",
     "output_type": "stream",
     "text": [
      "32.41345427059713\n",
      "Sreepriya,you are Obese\n"
     ]
    }
   ],
   "source": [
    "name = input(\"Enter your name: \")\n",
    "weight = int(input(\"Enter your weight in pounds: \"))\n",
    "height = int(input(\"Enter in height in inches: \"))\n",
    "\n",
    "BMI = (weight * 703) / (height * height)\n",
    "print(BMI)\n",
    "\n",
    "if BMI>0:\n",
    "    if BMI<18.5:\n",
    "        print(name + \",you are Underweight\")\n",
    "    elif BMI<24.9:\n",
    "        print(name +\",you are Normal weight\")\n",
    "    elif BMI<29.9:\n",
    "        print(name +\",you are Overweight\")\n",
    "    elif BMI<34.9:\n",
    "        print(name +\",you are Obese\")\n",
    "    elif BMI<39.9:\n",
    "        print(name +\",you are Severely Obese\")\n",
    "    else:\n",
    "         print(name +\",you are Morbidly Obese\")\n",
    "else:\n",
    "    print(\"Enter valid inputs\")"
   ]
  },
  {
   "cell_type": "code",
   "execution_count": null,
   "id": "269071fb-8c11-45b6-85c6-494f0cd8f737",
   "metadata": {},
   "outputs": [],
   "source": []
  },
  {
   "cell_type": "code",
   "execution_count": null,
   "id": "fd6015e8-ff92-4e89-b363-ab64108df81d",
   "metadata": {},
   "outputs": [],
   "source": []
  },
  {
   "cell_type": "code",
   "execution_count": null,
   "id": "b0a86f62-f390-4b2b-806e-f4f3979b3683",
   "metadata": {},
   "outputs": [],
   "source": []
  }
 ],
 "metadata": {
  "kernelspec": {
   "display_name": "Python 3 (ipykernel)",
   "language": "python",
   "name": "python3"
  },
  "language_info": {
   "codemirror_mode": {
    "name": "ipython",
    "version": 3
   },
   "file_extension": ".py",
   "mimetype": "text/x-python",
   "name": "python",
   "nbconvert_exporter": "python",
   "pygments_lexer": "ipython3",
   "version": "3.11.7"
  }
 },
 "nbformat": 4,
 "nbformat_minor": 5
}
