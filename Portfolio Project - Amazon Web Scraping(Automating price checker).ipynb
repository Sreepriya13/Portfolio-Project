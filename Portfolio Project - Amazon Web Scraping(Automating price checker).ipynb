{
 "cells": [
  {
   "cell_type": "code",
   "execution_count": 3,
   "id": "9c660f28-b4c5-4f51-a70a-31bdba3f68c9",
   "metadata": {},
   "outputs": [],
   "source": [
    "from bs4 import BeautifulSoup\n",
    "import requests\n",
    "import smtplib        # this library is used to send email to yourself\n",
    "import time\n",
    "import datetime"
   ]
  },
  {
   "cell_type": "code",
   "execution_count": 25,
   "id": "1709a1ff-c708-4eec-9530-55c4b6a34af6",
   "metadata": {},
   "outputs": [
    {
     "name": "stdout",
     "output_type": "stream",
     "text": [
      "True Classic Tees | Premium Fitted Men's T-Shirt | Crew Neck | Singles & Packs\n",
      "89.99\n"
     ]
    }
   ],
   "source": [
    "#Connect to website\n",
    "\n",
    "url = 'https://www.amazon.com/True-Classic-Staple-6-Pack-Large/dp/B0BJZ8WJ86/ref=sr_1_1_sspa?crid=R3WKMBJ1CZ2M&dib=eyJ2IjoiMSJ9.Y6DxGtCEJDMPk9G3CbipBcPjEIRSyv1nopwGgtRFKUnMcogY4SGsUpIxTjnwr9B-pOKvZr5_1V2NKW7g2ac-bsT9-FKbTCFEjDEaOQZR2kZ2KjFFYP0iad8b-lbPHkG2WkbeAtIZ6aOkZNijn46-oLVvlutTJISUm2s6pDNpJu7GkhBJJsnk-8ureS-uLpJZom4a4FYQbjGzSAP8Sj7k1CAGMdQgld260cw5VwM6XF5Vqidt9y2kRpdvW3PbJIpH6yYmEzy9ytxAUCuWgSfx90OMZlyd3c3G3bXW0c8twl4.uxes0XL0hR89AbqcZbpDu0_Oo9B7wZxXlK0BwKp2MfI&dib_tag=se&keywords=t-shirt&qid=1710738539&sprefix=tshir%2Caps%2C647&sr=8-1-spons&sp_csd=d2lkZ2V0TmFtZT1zcF9hdGY&psc=1&smid=A3FM5SASE2RH9V'\n",
    "headers = {\"User-Agent\": \"Mozilla/5.0 (Macintosh; Intel Mac OS X 10_15_7) AppleWebKit/605.1.15 (KHTML, like Gecko) Version/16.6.1 Safari/605.1.15\", \"Accept-Encoding\":\"gzip, deflate\", \"Accept\":\"text/html,application/xhtml+xml,application/xml;q=0.9,*/*;q=0.8\", \"DNT\":\"1\",\"Connection\":\"close\", \"Upgrade-Insecure-Requests\":\"1\"}\n",
    "\n",
    "page = requests.get(url, headers = headers)\n",
    "\n",
    "soup = BeautifulSoup(page.content,'html.parser')\n",
    "\n",
    "title = soup.find(id = 'productTitle').get_text().strip()\n",
    "\n",
    "#price = soup.find('span',{'class':\"a-price aok-align-center reinventPricePriceToPayMargin priceToPay\"}).find('span',{'class':'aria-hidden=\"true\"'}).get_text()\n",
    "\n",
    "price = soup.find('div',{'class':\"a-section a-spacing-small\"}).find('span',{'class':\"a-price a-text-price a-size-medium apexPriceToPay\"}).find('span',{'class':\"a-offscreen\"}).get_text().replace('$','')\n",
    "print(title)\n",
    "print(price)"
   ]
  },
  {
   "cell_type": "code",
   "execution_count": 31,
   "id": "4655f34b-f6aa-4189-9409-24fec3e93ebe",
   "metadata": {},
   "outputs": [
    {
     "name": "stdout",
     "output_type": "stream",
     "text": [
      "2024-03-18\n"
     ]
    }
   ],
   "source": [
    "import datetime\n",
    "\n",
    "today = datetime.date.today()\n",
    "\n",
    "print(today)"
   ]
  },
  {
   "cell_type": "code",
   "execution_count": 39,
   "id": "37e964f8-bd9d-4f15-9b70-324b6f2d3ca5",
   "metadata": {},
   "outputs": [],
   "source": [
    "import csv\n",
    "\n",
    "header = ['Title','Price','Date']\n",
    "data = [title,price,today]         #price,title is of string type so adding it into a list\n",
    "\n",
    "with open('AmazonWebScraperDataset.csv','w', newline='',encoding = 'UTF8') as f:            #w means write the file, newline means does not have space in the file while writing\n",
    "    writer = csv.writer(f)\n",
    "    writer.writerow(header)\n",
    "    writer.writerow(data)\n",
    "    "
   ]
  },
  {
   "cell_type": "code",
   "execution_count": 42,
   "id": "3e950e8d-ade1-4715-9fa2-ace438731ac4",
   "metadata": {},
   "outputs": [
    {
     "name": "stdout",
     "output_type": "stream",
     "text": [
      "                                               Title  Price        Date\n",
      "0  True Classic Tees | Premium Fitted Men's T-Shi...  89.99  2024-03-18\n",
      "1  True Classic Tees | Premium Fitted Men's T-Shi...  89.99  2024-03-18\n"
     ]
    }
   ],
   "source": [
    "import pandas as pd\n",
    "\n",
    "df = pd.read_csv(r\"/Users/priyapadmaraju/Python Tutorials/AmazonWebScraperDataset.csv\")\n",
    "\n",
    "print(df)"
   ]
  },
  {
   "cell_type": "code",
   "execution_count": 41,
   "id": "a33778c3-3223-425e-85fb-6a012ddeb4af",
   "metadata": {},
   "outputs": [],
   "source": [
    "# Now appending data into the csv\n",
    "\n",
    "with open('AmazonWebScraperDataset.csv','a+', newline='',encoding = 'UTF8') as f:            #w means write the file, newline means does not have space in the file while writing\n",
    "    writer = csv.writer(f)\n",
    "    \n",
    "    writer.writerow(data)\n",
    "\n"
   ]
  },
  {
   "cell_type": "code",
   "execution_count": 43,
   "id": "acd713f6-7253-4d74-b660-4c1ba1737e79",
   "metadata": {},
   "outputs": [],
   "source": [
    "# Automating the entry into the csv\n",
    "\n",
    "\n",
    "def check_price():\n",
    "    url = 'https://www.amazon.com/True-Classic-Staple-6-Pack-Large/dp/B0BJZ8WJ86/ref=sr_1_1_sspa?crid=R3WKMBJ1CZ2M&dib=eyJ2IjoiMSJ9.Y6DxGtCEJDMPk9G3CbipBcPjEIRSyv1nopwGgtRFKUnMcogY4SGsUpIxTjnwr9B-pOKvZr5_1V2NKW7g2ac-bsT9-FKbTCFEjDEaOQZR2kZ2KjFFYP0iad8b-lbPHkG2WkbeAtIZ6aOkZNijn46-oLVvlutTJISUm2s6pDNpJu7GkhBJJsnk-8ureS-uLpJZom4a4FYQbjGzSAP8Sj7k1CAGMdQgld260cw5VwM6XF5Vqidt9y2kRpdvW3PbJIpH6yYmEzy9ytxAUCuWgSfx90OMZlyd3c3G3bXW0c8twl4.uxes0XL0hR89AbqcZbpDu0_Oo9B7wZxXlK0BwKp2MfI&dib_tag=se&keywords=t-shirt&qid=1710738539&sprefix=tshir%2Caps%2C647&sr=8-1-spons&sp_csd=d2lkZ2V0TmFtZT1zcF9hdGY&psc=1&smid=A3FM5SASE2RH9V'\n",
    "    headers = {\"User-Agent\": \"Mozilla/5.0 (Macintosh; Intel Mac OS X 10_15_7) AppleWebKit/605.1.15 (KHTML, like Gecko) Version/16.6.1 Safari/605.1.15\", \"Accept-Encoding\":\"gzip, deflate\", \"Accept\":\"text/html,application/xhtml+xml,application/xml;q=0.9,*/*;q=0.8\", \"DNT\":\"1\",\"Connection\":\"close\", \"Upgrade-Insecure-Requests\":\"1\"}\n",
    "\n",
    "    page = requests.get(url, headers = headers)\n",
    "\n",
    "    soup = BeautifulSoup(page.content,'html.parser')\n",
    "\n",
    "    title = soup.find(id = 'productTitle').get_text().strip()\n",
    "\n",
    "#price = soup.find('span',{'class':\"a-price aok-align-center reinventPricePriceToPayMargin priceToPay\"}).find('span',{'class':'aria-hidden=\"true\"'}).get_text()\n",
    "\n",
    "    price = soup.find('div',{'class':\"a-section a-spacing-small\"}).find('span',{'class':\"a-price a-text-price a-size-medium apexPriceToPay\"}).find('span',{'class':\"a-offscreen\"}).get_text().replace('$','')\n",
    "    \n",
    "    import datetime\n",
    "    \n",
    "    today = datetime.date.today()\n",
    "    \n",
    "    import csv\n",
    "    \n",
    "    header = ['Title','Price','Date']\n",
    "    data = [title,price,today] \n",
    "\n",
    "    with open('AmazonWebScraperDataset.csv','a+', newline='',encoding = 'UTF8') as f:     #w means write the file, newline means does not have space in the file while writing\n",
    "       writer = csv.writer(f)\n",
    "       writer.writerow(data)\n",
    "\n",
    "    #if(price<50):\n",
    "     #   send_mail()        # used to send a mail when the conditiion is met\n"
   ]
  },
  {
   "cell_type": "code",
   "execution_count": null,
   "id": "5bd085ca-a693-4e41-9349-1ca4c033e7a9",
   "metadata": {},
   "outputs": [],
   "source": [
    "while(True):\n",
    "    check_price()\n",
    "    time.sleep(5)  #runs by seconds"
   ]
  },
  {
   "cell_type": "code",
   "execution_count": 47,
   "id": "b14905a3-bc98-4123-bcc3-372fb90d55b6",
   "metadata": {},
   "outputs": [
    {
     "name": "stdout",
     "output_type": "stream",
     "text": [
      "                                               Title  Price        Date\n",
      "0  True Classic Tees | Premium Fitted Men's T-Shi...  89.99  2024-03-18\n",
      "1  True Classic Tees | Premium Fitted Men's T-Shi...  89.99  2024-03-18\n",
      "2  True Classic Tees | Premium Fitted Men's T-Shi...  69.99  2024-03-18\n",
      "3  True Classic Tees | Premium Fitted Men's T-Shi...  69.99  2024-03-18\n",
      "4  True Classic Tees | Premium Fitted Men's T-Shi...  69.99  2024-03-18\n",
      "5  True Classic Tees | Premium Fitted Men's T-Shi...  69.99  2024-03-18\n",
      "6  True Classic Tees | Premium Fitted Men's T-Shi...  69.99  2024-03-18\n"
     ]
    }
   ],
   "source": [
    "import pandas as pd\n",
    "\n",
    "df = pd.read_csv(r\"/Users/priyapadmaraju/Python Tutorials/AmazonWebScraperDataset.csv\")\n",
    "\n",
    "print(df)"
   ]
  },
  {
   "cell_type": "code",
   "execution_count": null,
   "id": "0f46893d-26b2-4a8b-95f1-594aae2a83ca",
   "metadata": {},
   "outputs": [],
   "source": [
    "# If uou want to try sending yourself an email (just for fun) when a price hits below a certain level you can try it\n",
    "# out with this script\n",
    "\n",
    "def send_mail():\n",
    "    server = smtplib.SMTP_SSL('smtp.gmail.com',465)\n",
    "    server.ehlo()\n",
    "    #server.starttls()\n",
    "    server.ehlo()\n",
    "    server.login('priya021089@gmail.com','xxxxxxxxxxxxxx')\n",
    "    \n",
    "    subject = \"The Shirt you want is below $15! Now is your chance to buy!\"\n",
    "    body = \"Priya, This is the moment we have been waiting for. Now is your chance to pick up the shirt of your dreams. Don't mess it up! Link here: https://www.amazon.com/Funny-Data-Systems-Business-Analyst/dp/B07FNW9FGJ/ref=sr_1_3?dchild=1&keywords=data+analyst+tshirt&qid=1626655184&sr=8-3\"\n",
    "   \n",
    "    msg = f\"Subject: {subject}\\n\\n{body}\"\n",
    "    \n",
    "    server.sendmail(\n",
    "        'priya021089@gmail.com',\n",
    "        msg\n",
    "     \n",
    "    )"
   ]
  },
  {
   "cell_type": "code",
   "execution_count": null,
   "id": "21bd7801-f15c-4558-9c28-1863fcee2f61",
   "metadata": {},
   "outputs": [],
   "source": []
  },
  {
   "cell_type": "code",
   "execution_count": null,
   "id": "1baa8c2e-262c-4f66-8004-e0428a5a968b",
   "metadata": {},
   "outputs": [],
   "source": []
  }
 ],
 "metadata": {
  "kernelspec": {
   "display_name": "Python 3 (ipykernel)",
   "language": "python",
   "name": "python3"
  },
  "language_info": {
   "codemirror_mode": {
    "name": "ipython",
    "version": 3
   },
   "file_extension": ".py",
   "mimetype": "text/x-python",
   "name": "python",
   "nbconvert_exporter": "python",
   "pygments_lexer": "ipython3",
   "version": "3.11.7"
  }
 },
 "nbformat": 4,
 "nbformat_minor": 5
}
