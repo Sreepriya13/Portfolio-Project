{
 "cells": [
  {
   "cell_type": "code",
   "execution_count": 3,
   "id": "b36809c7-e612-48cd-8975-af6e5acdd59d",
   "metadata": {},
   "outputs": [],
   "source": [
    "import os, shutil"
   ]
  },
  {
   "cell_type": "code",
   "execution_count": 21,
   "id": "ec0a01f6-517e-4abe-8011-7d5b08052fa4",
   "metadata": {},
   "outputs": [],
   "source": [
    "path = r\"/Users/priyapadmaraju/Desktop/PythonFilesorterfiles/\""
   ]
  },
  {
   "cell_type": "code",
   "execution_count": 22,
   "id": "9cba96bd-f5e7-4347-81ff-e383e8e3a94e",
   "metadata": {},
   "outputs": [],
   "source": [
    "file_name = os.listdir(path)"
   ]
  },
  {
   "cell_type": "code",
   "execution_count": 30,
   "id": "920cd152-9258-46c8-af80-1254722563fa",
   "metadata": {},
   "outputs": [],
   "source": [
    "folder_names = ['csv files','image files','text files']\n",
    "\n",
    "for loop in range(0,3):\n",
    "    if not os.path.exists(path +folder_names[loop]):\n",
    "        os.makedirs((path +folder_names[loop]))"
   ]
  },
  {
   "cell_type": "code",
   "execution_count": 33,
   "id": "cb929369-43ca-40cf-a7e4-2f1b62b46966",
   "metadata": {},
   "outputs": [],
   "source": [
    "\n",
    "for file in file_name:\n",
    "    if \".csv\" in file and not os.path.exists(path + \"csv files/\" + file):\n",
    "        shutil.move(path + file,path + \"csv files/\" + file)\n",
    "    elif \".png\" in file and not os.path.exists(path + \"image files/\" + file):\n",
    "        shutil.move(path + file,path + \"image files/\" + file)\n",
    "        \n",
    "    elif \".txt\" in file and not os.path.exists(path + \"text files/\" + file):\n",
    "        shutil.move(path + file,path + \"text files/\" + file)\n",
    "        "
   ]
  },
  {
   "cell_type": "code",
   "execution_count": null,
   "id": "f08af808-f5b8-4fb5-b7c1-26e5b26ffc65",
   "metadata": {},
   "outputs": [],
   "source": []
  },
  {
   "cell_type": "code",
   "execution_count": null,
   "id": "72f08e5e-6f41-4483-aa99-cf043378b395",
   "metadata": {},
   "outputs": [],
   "source": []
  },
  {
   "cell_type": "code",
   "execution_count": null,
   "id": "99a480a0-f5c4-45cf-81b2-0a57bb87d92d",
   "metadata": {},
   "outputs": [],
   "source": []
  },
  {
   "cell_type": "code",
   "execution_count": null,
   "id": "18516f98-a6f2-4bb8-b2c4-df576f2ce714",
   "metadata": {},
   "outputs": [],
   "source": []
  },
  {
   "cell_type": "code",
   "execution_count": null,
   "id": "f02c1584-eaed-48c7-a6dc-d4b0577f8e6f",
   "metadata": {},
   "outputs": [],
   "source": []
  },
  {
   "cell_type": "code",
   "execution_count": null,
   "id": "88d0772f-58d7-41fa-981c-16b60e924363",
   "metadata": {},
   "outputs": [],
   "source": []
  },
  {
   "cell_type": "code",
   "execution_count": null,
   "id": "74ed6f0b-7187-417c-8ab3-1626de91210f",
   "metadata": {},
   "outputs": [],
   "source": []
  }
 ],
 "metadata": {
  "kernelspec": {
   "display_name": "Python 3 (ipykernel)",
   "language": "python",
   "name": "python3"
  },
  "language_info": {
   "codemirror_mode": {
    "name": "ipython",
    "version": 3
   },
   "file_extension": ".py",
   "mimetype": "text/x-python",
   "name": "python",
   "nbconvert_exporter": "python",
   "pygments_lexer": "ipython3",
   "version": "3.11.7"
  }
 },
 "nbformat": 4,
 "nbformat_minor": 5
}
